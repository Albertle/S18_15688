{
 "cells": [
  {
   "cell_type": "code",
   "execution_count": 2,
   "metadata": {
    "collapsed": true
   },
   "outputs": [],
   "source": [
    "import pickle\n",
    "import re\n",
    "\n",
    "import requests\n",
    "import pandas as pd\n",
    "from bs4 import BeautifulSoup\n",
    "\n",
    "from sklearn.svm import SVC\n",
    "from sklearn.model_selection import train_test_split\n",
    "\n",
    "import matplotlib.pyplot as plt\n",
    "%matplotlib inline\n",
    "\n",
    "from IPython.core.display import display, HTML"
   ]
  },
  {
   "cell_type": "markdown",
   "metadata": {},
   "source": [
    "# Predict Steam Review Ratings by Game Media Rating\n",
    "\n",
    "Usually the game media, like IGN, GameSpot and PC Gamer, will get the pre-released version of the game and publish their score before the official release. Customers often can't tell which media is more 'accurate'. There are many conditions that may disguide the customers. For example, the preference of the media, the content in the pre-released version, or even sometimes the media isn't telling 'the truth'. To address this problem, we decide to use the Machine Learning technology learnt in the course. With the large user basis on Steam, we regard the Steam review ratings as the 'true' rating for a game. Therefore, we can leverage the game rating score from big game media to predict the true rating of a newly-released game."
   ]
  },
  {
   "cell_type": "markdown",
   "metadata": {},
   "source": [
    "##  Get the Game List\n",
    "\n",
    "First, we fetch all the avaiable games on Steam using the Web API and save it as a list of **(appid, app_name)** pair."
   ]
  },
  {
   "cell_type": "code",
   "execution_count": 286,
   "metadata": {
    "collapsed": true
   },
   "outputs": [],
   "source": [
    "GET_APP_LIST_URL = 'http://api.steampowered.com/ISteamApps/GetAppList/v2'\n",
    "apps_json = requests.get(GET_APP_LIST_URL).json()\n",
    "app_list = apps_json['applist']['apps']"
   ]
  },
  {
   "cell_type": "markdown",
   "metadata": {},
   "source": [
    "## Scrape the Reviews\n",
    "\n",
    "Then we scrape the reviews for the game in the list. The column includes,\n",
    "1. **the appid**\n",
    "2. **the name of the app**\n",
    "3. **the description of the review score**\n",
    "\n",
    "The review score on the Steam is based on each user's review. The review ratings is relatively convincing, for\n",
    "\n",
    "1. The user should buy the game first\n",
    "2. The score considers the ratio of the positive/negative reviews and the number of the reivews\n",
    "3. We only take the game whose number of total reviews over 1000"
   ]
  },
  {
   "cell_type": "code",
   "execution_count": null,
   "metadata": {
    "collapsed": true
   },
   "outputs": [],
   "source": [
    "REVIEW_BASE_URL = 'https://store.steampowered.com/appreviews/'\n",
    "\n",
    "def scrape_reviews(app):\n",
    "    params = {'json': 1, 'start_offset': 0, 'language': 'all'}\n",
    "    try:\n",
    "        resp = requests.get(\n",
    "            REVIEW_BASE_URL + str(app['appid']), params=params).json()\n",
    "        if 'query_summary' not in resp:\n",
    "            return None\n",
    "        summary = resp['query_summary']\n",
    "        if summary['total_reviews'] <= 1000:\n",
    "            return None\n",
    "        summary.update(app)\n",
    "        return summary\n",
    "    except:\n",
    "        return None\n",
    "\n",
    "app_reviews = list(filter(lambda x: x, map(scrape_reviews, app_list[:10])))\n",
    "# with open('app_reviews.pickle', 'wb') as f:\n",
    "#     pickle.dump(app_reviews, f)"
   ]
  },
  {
   "cell_type": "markdown",
   "metadata": {},
   "source": [
    "## Scrape the ratings from the game media\n",
    "\n",
    "After we got the **true** rating, it's time to retrieve the feature ratings. For there are hundreds of the game media and not every media will review all the games(in fact, their intersection is pretty small), we pres-select ten of them. They are chosen because they contian the most reviews among the game list we scraped. The top three are PC Gamer, GameSpot and IGN, which is what we expected."
   ]
  },
  {
   "cell_type": "code",
   "execution_count": 287,
   "metadata": {},
   "outputs": [
    {
     "data": {
      "text/plain": [
       "['PC Gamer',\n",
       " 'GameSpot',\n",
       " 'IGN',\n",
       " 'Hooked Gamers',\n",
       " 'PC Power Play',\n",
       " 'GameWatcher',\n",
       " 'Destructoid',\n",
       " 'PC Gamer UK',\n",
       " 'Hardcore Gamer',\n",
       " 'Game Informer']"
      ]
     },
     "execution_count": 287,
     "metadata": {},
     "output_type": "execute_result"
    }
   ],
   "source": [
    "# This is the media contains the gamer, collected by times\n",
    "with open('media_contains.pickle', 'rb') as f:\n",
    "    media_contains = pickle.load(f)\n",
    "\n",
    "all_media = [n[0].strip() for n in media_contains[:10]]\n",
    "all_media"
   ]
  },
  {
   "cell_type": "markdown",
   "metadata": {},
   "source": [
    "We scrape the review ratings from the [Game Rankings](https://www.gamerankings.com). We parse the data using the BeautifulSoup and normalize the scraped rating to 1. We organize the data in the form of Panda's DataFrame. Each row is a game, with column of appid, name, rating description + the ratings from 10 game media."
   ]
  },
  {
   "cell_type": "code",
   "execution_count": 282,
   "metadata": {
    "collapsed": true
   },
   "outputs": [],
   "source": [
    "RANKING_BASE_URL = 'https://www.gamerankings.com'\n",
    "BROWSE = '/browse.html'\n",
    "ARTICLES = '/articles.html'\n",
    "params = {'site': 'pc', 'cat': 0, 'year': 0, 'numrev': 3, 'sort': 0, 'letter': None}\n",
    "\n",
    "def parse_game_page(link):\n",
    "    html = requests.get(RANKING_BASE_URL + link + ARTICLES).text\n",
    "    soup = BeautifulSoup(html, 'html.parser')\n",
    "    trs = soup.find('table').find('tbody').find_all('tr')\n",
    "    media_rating = {k:-1 for k in all_media}\n",
    "    for tr in trs:\n",
    "        cols = tr.find_all('td')\n",
    "        media = cols[0].text.strip()\n",
    "        rating = cols[-1].text.strip()\n",
    "        if media in media_rating:\n",
    "            media_rating[media] = float(rating[:-1])\n",
    "    return media_rating\n",
    "\n",
    "def scrape_reviews(name):\n",
    "    try:\n",
    "        c_params = dict(params, search=name)\n",
    "        html = requests.get(RANKING_BASE_URL + BROWSE, params=c_params).text\n",
    "        soup = BeautifulSoup(html, 'html.parser')\n",
    "        links = soup.find('table').find_all('a')\n",
    "\n",
    "        if not links:\n",
    "            return {}\n",
    "        href = links[0]['href']\n",
    "        for link in links:\n",
    "            if link.text == name:\n",
    "                href = link['href']\n",
    "                break\n",
    "        ratings = parse_game_page(href[:href.rfind('/')])\n",
    "        return ratings\n",
    "    except:\n",
    "        return {}\n",
    "\n",
    "with open('app_reviews.pickle', 'rb') as f:\n",
    "    app_reviews = pickle.load(f)\n",
    "app_df = pd.DataFrame(app_reviews)\n",
    "\n",
    "ratings = [scrape_reviews(name) for name in app_df.name[:5]]\n",
    "# with open('ratings.pickle', 'wb') as f:\n",
    "#     pickle.dump(ratings, f)"
   ]
  },
  {
   "cell_type": "markdown",
   "metadata": {},
   "source": [
    "## Clean Data\n",
    "\n",
    "For now, we already have the features and label pair ready to be fed into the Machine Learning model. However, after we took a glance at the data, there are some points we believe that may results in a bad prediction.\n",
    "\n",
    "1. The data contains NaN which means the media doesn't review the game.\n",
    "2. The data is relatively sparse\n",
    "\n",
    "To solve this, we decide to drop all the game which doesn't contain reviews from any ten game media. Then we calculate the mean of the score for the each game media and apply these scores to the missing slot. We also shrink the levels of the review ratings from 7 to 5.\n",
    "\n",
    "- +3(Overwhelmingly Positive) -> +2(Very Positive)\n",
    "- +2(Very Positive) -> +2(Very Positive)\n",
    "- +1(Mostly Positive, Positive) -> +1(Positive)\n",
    "- +0(Mixed) -> 0(Mixed)\n",
    "- -1(Mostly Negative, Negative) -> -1(Negative)\n",
    "- -2(Very Positive) -> -2(Very Positive)\n",
    "- -3(Overwhelmingly Positive) -> -2(Very Positive)"
   ]
  },
  {
   "cell_type": "code",
   "execution_count": 289,
   "metadata": {
    "collapsed": true
   },
   "outputs": [],
   "source": [
    "with open('ratings.pickle', 'rb') as f:\n",
    "    ratings = pickle.load(f)\n",
    "\n",
    "rdf = pd.concat([app_df, pd.DataFrame(ratings)], axis=1)\n",
    "rdf = rdf.dropna()\n",
    "\n",
    "filter_in = ['appid', 'name', 'review_score', 'review_score_desc'] + all_media\n",
    "all_df = rdf.filter(filter_in)\n",
    "all_df.loc[all_df['review_score_desc'] == 'Mostly Positive', 'review_score_desc'] = 'Positive'\n",
    "all_df.loc[all_df['review_score_desc'] == 'Overwhelmingly Positive', 'review_score_desc'] = 'Very Positive'\n",
    "\n",
    "all_df.loc[all_df['review_score_desc'] == 'Mostly Negative', 'review_score_desc'] = 'Negative'\n",
    "all_df.loc[all_df['review_score_desc'] == 'Overwhelmingly Negative', 'review_score_desc'] = 'Very Negative'\n",
    "\n",
    "# all_df = all_df[(all_df == -1.0).sum(axis=1) <= 8]\n",
    "means = [all_df[all_df[m] != -1.0][m].mean() for m in all_media]\n",
    "for name, mean in zip(all_media, means):\n",
    "    all_df.loc[all_df[name] == -1.0, name] = mean\n",
    "\n",
    "with open('all.pickle', 'wb') as f:\n",
    "    pickle.dump(all_df, f)"
   ]
  },
  {
   "cell_type": "markdown",
   "metadata": {},
   "source": [
    "## Tuning Hyper-Parameter using Validation set\n",
    "\n",
    "We have tried several models and found Support Vector Machine can achieve generally the best score, so we decide to tune the hyper-parameter of this model. We split the data into three set, training, validation and testing. We tried several values on **C**, and validate it by the validation set. It results that using $C=1.0$ is can achieve the best accuracy."
   ]
  },
  {
   "cell_type": "code",
   "execution_count": 292,
   "metadata": {},
   "outputs": [
    {
     "name": "stdout",
     "output_type": "stream",
     "text": [
      "Very Positive 836\n",
      "Positive 172\n",
      "Mixed 152\n",
      "Very Negative 2\n",
      "Negative 12\n"
     ]
    },
    {
     "data": {
      "text/plain": [
       "<matplotlib.legend.Legend at 0x1a24fa6080>"
      ]
     },
     "execution_count": 292,
     "metadata": {},
     "output_type": "execute_result"
    },
    {
     "data": {
      "image/png": "[encoded data removed]",
      "text/plain": [
       "<matplotlib.figure.Figure at 0x1a24fa67b8>"
      ]
     },
     "metadata": {},
     "output_type": "display_data"
    }
   ],
   "source": [
    "with open('all.pickle', 'rb') as f:\n",
    "    all_df = pickle.load(f)\n",
    "\n",
    "X = all_df.filter(all_media)\n",
    "y = all_df['review_score_desc']\n",
    "\n",
    "for desc in set(y):\n",
    "    print(desc, len(y[y==desc]))\n",
    "\n",
    "X_, X_test, y_, y_test = train_test_split(X, y, test_size=0.3, random_state=0)\n",
    "X_train, X_cv, y_train, y_cv = train_test_split(X_, y_, test_size=0.3, random_state=0)\n",
    "\n",
    "def get_err_C(clf, X, y, X_cv, y_cv, C):\n",
    "    clf.C = C\n",
    "    clf.fit(X, y)\n",
    "    return np.array([clf.score(X, y), clf.score(X_cv, y_cv)])\n",
    "\n",
    "C = np.logspace(-4, 4, 50)\n",
    "errors = np.array([get_err_C(SVC(), X_train, y_train, X_cv, y_cv, c) for c in C])\n",
    "plt.semilogx(C, errors[:,0], C, errors[:,1])\n",
    "plt.legend(['Training', 'Validation'])"
   ]
  },
  {
   "cell_type": "markdown",
   "metadata": {},
   "source": [
    "## Prediction Accuracy\n",
    "\n",
    "Finally, we use the tuned model to predict the data on each three data sets, and obtain the accuracy of,\n",
    "\n",
    "1. Training Accuracy: 0.9129\n",
    "2. Validation Accuracy: 0.7409\n",
    "3. Testing Accuracy: 0.6997"
   ]
  },
  {
   "cell_type": "code",
   "execution_count": 291,
   "metadata": {},
   "outputs": [
    {
     "name": "stdout",
     "output_type": "stream",
     "text": [
      "train score: 0.912891986063\n",
      "cv score: 0.740890688259\n",
      "test score: 0.699716713881\n"
     ]
    }
   ],
   "source": [
    "svm = SVC(C=1.0)\n",
    "svm.fit(X_train, y_train)\n",
    "print('train score:', svm.score(X_train, y_train))\n",
    "print('cv score:', svm.score(X_cv, y_cv))\n",
    "print('test score:', svm.score(X_test, y_test))"
   ]
  }
 ],
 "metadata": {
  "kernelspec": {
   "display_name": "Python 3",
   "language": "python",
   "name": "python3"
  },
  "language_info": {
   "codemirror_mode": {
    "name": "ipython",
    "version": 3
   },
   "file_extension": ".py",
   "mimetype": "text/x-python",
   "name": "python",
   "nbconvert_exporter": "python",
   "pygments_lexer": "ipython3",
   "version": "3.6.3"
  }
 },
 "nbformat": 4,
 "nbformat_minor": 2
}
