{
 "cells": [
  {
   "cell_type": "markdown",
   "metadata": {},
   "source": [
    "# Steam Miner"
   ]
  },
  {
   "cell_type": "markdown",
   "metadata": {},
   "source": [
    "Steam, the world-largest PC game distribution platform, has a huge body of customers. Powered by a freely Web API provided by Steam, we’d like to dig and reveal some interesting facts from the Steam community.\n",
    "\n",
    "In this project, we collect data from the steam p"
   ]
  },
  {
   "cell_type": "code",
   "execution_count": 1,
   "metadata": {
    "collapsed": true
   },
   "outputs": [],
   "source": [
    "# Load matplotlib library\n",
    "import matplotlib\n",
    "matplotlib.use(\"svg\")\n",
    "%matplotlib inline\n",
    "import matplotlib.pyplot as plt\n",
    "plt.style.use(\"ggplot\")"
   ]
  },
  {
   "cell_type": "code",
   "execution_count": 35,
   "metadata": {
    "collapsed": true
   },
   "outputs": [],
   "source": [
    "# Other packages\n",
    "import operator\n",
    "import numpy as np\n",
    "import requests\n",
    "import json\n",
    "from collections import deque\n",
    "import random\n",
    "import time\n",
    "import pickle\n",
    "import igraph as ig\n",
    "import math\n",
    "import random\n",
    "import plotly.plotly as py\n",
    "import plotly\n",
    "from plotly.graph_objs import *"
   ]
  },
  {
   "cell_type": "markdown",
   "metadata": {},
   "source": [
    "# Analyze game playing data"
   ]
  },
  {
   "cell_type": "markdown",
   "metadata": {},
   "source": [
    "In this section, we will introduce what we did to analyze the game playing history data for steam users. In brief, we collect user data on steam, then we inspect the data and did some visualization. Finally, we are able to draw some conclusion from the data we scraped."
   ]
  },
  {
   "cell_type": "markdown",
   "metadata": {},
   "source": [
    "## Collection public game playing history"
   ]
  },
  {
   "cell_type": "markdown",
   "metadata": {},
   "source": [
    "At first, we try to collect data about steam users and the games they played. We start from one steam user and then scrape data of all the friends of this user, and goes on. In this way, we can collect lots of steam user's profile.\n",
    "\n",
    "However, while doing this project, steam updated its privacy policy that each user's game playing history become friend-view-only in default which we did not expect. So we can only get the game playing history of users who set their profiles to be public. We scraped around 90,000+ user and managed to collect 3431 public profiles.\n",
    "\n",
    "The following code snippet is used to scrap users' recently played games (two weeks), and the maximum number of game to return by the API is set to 10. The response of these APIs are in JSON format, and we store the response in files \"game_part_id.json\". Each file stores a maximum of 500 response and uses id to distinguish different files. We write a robust routin (ignored in this notebook for simplicity) to collect users' steam id and then using the following functions to scrape all public user gaming history."
   ]
  },
  {
   "cell_type": "code",
   "execution_count": 3,
   "metadata": {
    "collapsed": true
   },
   "outputs": [],
   "source": [
    "class GameCrawler:\n",
    "    '''\n",
    "    Class that encapsulate the functions to collect data for each steam user.\n",
    "    '''\n",
    "    def __init__(self, count=0):\n",
    "        self.api = 'http://api.steampowered.com/IPlayerService/GetRecentlyPlayedGames/v1'\n",
    "\n",
    "        self.output = {'games': []}\n",
    "        self.output_limit = 500\n",
    "        self.output_file_prefix = 'user_game/games_part_'\n",
    "        self.part_count = count\n",
    "    \n",
    "    def get_recently_played_game(self, steamid, key, count):\n",
    "        '''\n",
    "        Given the steam id, get the user's recently palyed games if it's public\n",
    "        '''\n",
    "        payload = {'steamid': steamid, 'key': key, 'count': count}\n",
    "        response = requests.get(self.api, params=payload)\n",
    "        json_obj = json.loads(response.text)\n",
    "        if json_obj.get('response') is None or json_obj.get('response').get('total_count') is None\\\n",
    "          or json_obj.get('response').get('total_count') == 0:\n",
    "            return\n",
    "        json_obj['master_steamid'] = steamid\n",
    "        self.output['games'].append(json_obj)\n",
    "        if len(self.output['games']) >= self.output_limit:\n",
    "            file_name = self.output_file_prefix + '{}'.format(self.part_count) + '.json'\n",
    "            with open(file_name, 'w') as output_f:\n",
    "                json.dump(self.output, output_f)\n",
    "            self.output = {'games': []}\n",
    "            self.part_count += 1\n",
    "\n",
    "    def write_to_file(self):\n",
    "        '''\n",
    "        Output data into the output file\n",
    "        '''\n",
    "        if len(self.output['games']) > 0:\n",
    "            file_name = self.output_file_prefix + '{}'.format(self.part_count) + '.json'\n",
    "            with open(file_name, 'w') as output_f:\n",
    "                json.dump(self.output, output_f)\n",
    "            self.output = {'games': []}\n",
    "            self.part_count += 1"
   ]
  },
  {
   "cell_type": "markdown",
   "metadata": {},
   "source": [
    "## Utility functions"
   ]
  },
  {
   "cell_type": "markdown",
   "metadata": {},
   "source": [
    "The next thing we did is processing and analyzing data. To reduce duplicate code and make the code more manageable, we implemented a set of utility functions on loading data, organizing data and plotting as follow."
   ]
  },
  {
   "cell_type": "code",
   "execution_count": 10,
   "metadata": {
    "collapsed": true
   },
   "outputs": [],
   "source": [
    "game_file_name_prefix = \"user_game/games_part_\"\n",
    "\n",
    "def generate_game_mapping():\n",
    "    '''\n",
    "    Load all the games json files, and write mapping from\n",
    "    steam id to synthetic id starting from 0, for the purpose\n",
    "    of orgnizing the data.\n",
    "    Serialize the dictionary data structure in a pickle file\n",
    "    '''\n",
    "    record = set()\n",
    "    mapping = dict()\n",
    "    counter = 0\n",
    "    id_file_name = 'game_id_mapping.pkl'\n",
    "    part_id = 7\n",
    "    for i in range(part_id + 1):\n",
    "        file_name = game_file_name_prefix + '{}'.format(i) + '.json'\n",
    "        with open(file_name, 'r') as input_f:\n",
    "            tmp_obj = json.load(input_f)\n",
    "            parent_list = tmp_obj['games']\n",
    "            for response in parent_list:\n",
    "                # Assign id to this steam user if it isn't appear previously\n",
    "                steam_id = response['master_steamid']\n",
    "                if steam_id not in record:\n",
    "                    record.add(steam_id)\n",
    "                    mapping[steam_id] = counter\n",
    "                    counter += 1\n",
    "    # Seralize mapping dict\n",
    "    with open(id_file_name, 'wb') as output_f:\n",
    "        pickle.dump(mapping, output_f)\n",
    "\n",
    "def read_mapping(mapping_file_name):\n",
    "    '''\n",
    "    Load the steam id mapping\n",
    "    '''\n",
    "    with open(mapping_file_name, 'rb') as input_f:\n",
    "        mapping = pickle.load(input_f)\n",
    "    return mapping\n",
    "\n",
    "def get_user_game_count():\n",
    "    '''\n",
    "    Find the number of recently played games for each user.\n",
    "    A list is returned.\n",
    "    '''\n",
    "    part_id = 7\n",
    "    games_list = list()\n",
    "    for i in range(part_id + 1):\n",
    "        # Read in a response file and count the number of recently palyed games for each uesr\n",
    "        file_name = game_file_name_prefix + '{}'.format(i) + '.json'\n",
    "        with open(file_name) as input_f:\n",
    "            tmp_obj = json.load(input_f)\n",
    "        parent_list = tmp_obj['games']\n",
    "        for response in parent_list:\n",
    "            inner_response = response.get('response')\n",
    "            if inner_response is None:\n",
    "                continue\n",
    "            games = inner_response.get('games')\n",
    "            if games is None:\n",
    "                continue\n",
    "            game_count = 0\n",
    "            for game in games:\n",
    "                tmp_time = game.get('playtime_2weeks')\n",
    "                if tmp_time is None or (tmp_time is not None and tmp_time <= 120):\n",
    "                    continue\n",
    "                game_count += 1\n",
    "            if game_count > 0:\n",
    "                games_list.append(game_count)\n",
    "    return games_list\n",
    "\n",
    "def load_games(constrained_id_mapping=None):\n",
    "    '''\n",
    "    Load all the games json files and return two dictionaries.\n",
    "    1. mapping from game id to game name\n",
    "    2. mapping from game and all users that recently played this game,\n",
    "    each user is a tuple contain the user id and user the time he played\n",
    "    this game in 2 weeks in hours.\n",
    "    \n",
    "    The constrianed_id_mapping parameter denote a subset of id. If this is\n",
    "    not null, the function will only return data related to those ids.\n",
    "    '''\n",
    "    # Load user mapping first\n",
    "    if constrained_id_mapping is None:\n",
    "        id_file_name = 'game_id_mapping.pkl'\n",
    "        mapping = read_mapping(id_file_name)\n",
    "    else:\n",
    "        mapping = constrained_id_mapping\n",
    "    part_id = 7\n",
    "    # Generate dictionary information\n",
    "    app_id_name_mapping = dict()\n",
    "    app_id_user_mapping = dict()\n",
    "    for i in range(part_id + 1):\n",
    "        file_name = game_file_name_prefix + '{}'.format(i) + '.json'\n",
    "        with open(file_name, 'rb') as input_f:\n",
    "            tmp_obj = json.load(input_f)\n",
    "        parent_list = tmp_obj['games']\n",
    "        for response in parent_list:\n",
    "            steam_id = response['master_steamid']\n",
    "            if mapping.get(steam_id) is None:\n",
    "                continue\n",
    "            inner_response = response.get('response')\n",
    "            if inner_response is None:\n",
    "                continue\n",
    "            games = inner_response.get('games')\n",
    "            if games is None:\n",
    "                continue\n",
    "            for game in games:\n",
    "                app_id = game.get('appid')\n",
    "                if app_id is None:\n",
    "                    continue\n",
    "                app_name = game.get('name')\n",
    "                if app_name is None:\n",
    "                    continue\n",
    "                # Count as valid if this user has played this game for more than two hours\n",
    "                # in these two weeks\n",
    "                tmp_time = game.get('playtime_2weeks')\n",
    "                # To remove outliers, a game is only considered valid if the users have played it\n",
    "                # for at least two hours in the recently two weeks\n",
    "                if tmp_time is None or (tmp_time is not None and tmp_time <= 120):\n",
    "                    continue\n",
    "                if app_id not in app_id_name_mapping:\n",
    "                    app_id_name_mapping[app_id] = app_name\n",
    "                if app_id not in app_id_user_mapping:\n",
    "                    app_id_user_mapping[app_id] = list()\n",
    "                app_id_user_mapping[app_id].append((mapping[steam_id], tmp_time / 60))\n",
    "    return app_id_name_mapping, app_id_user_mapping\n",
    "\n",
    "\n",
    "def generate_edges(app_id_user_mapping):\n",
    "    '''\n",
    "    Given the user list for each games, generate all the pairs\n",
    "    if two user played the same games; As well as the weight if two\n",
    "    users share more than one games.\n",
    "    Return a edge dictionary using pair as key and weight as value;\n",
    "    And another dictionary using pair as key and a list of shared app as value.\n",
    "    '''\n",
    "    test_set = set()\n",
    "    id_file_name = 'game_id_mapping.pkl'\n",
    "    mapping = read_mapping(id_file_name)\n",
    "    edges_dict = dict()\n",
    "    # Record the shared games on each edge\n",
    "    edges_game_dict = dict()\n",
    "    for key in app_id_user_mapping:\n",
    "        user_list = app_id_user_mapping[key]\n",
    "        if len(user_list) <= 1:\n",
    "            continue\n",
    "        # Generate edge pair\n",
    "        for i in range(len(user_list) - 1):\n",
    "            source_id = user_list[i]\n",
    "            for j in range(i+1, len(user_list)):\n",
    "                target_id = user_list[j]\n",
    "                edge_pair = (source_id, target_id) if source_id <= target_id \\\n",
    "                    else (target_id, source_id)\n",
    "                test_set.add(edge_pair)\n",
    "                if edge_pair not in edges_dict:\n",
    "                    edges_dict[edge_pair] = 1\n",
    "                    edges_game_dict[edge_pair] = list()\n",
    "                    edges_game_dict[edge_pair].append(key)\n",
    "                else:\n",
    "                    edges_dict[edge_pair] += 1\n",
    "                    edges_game_dict[edge_pair].append(key)\n",
    "    return edges_dict, edges_game_dict\n",
    "\n",
    "def transfer_mapping(edges_dict, edges_game_dict, threshold=3):\n",
    "    '''\n",
    "    Given all the edges, apply the weight threshold, using new\n",
    "    point id and generate point list, edge list and weight list.\n",
    "    This is because the graph library we used require the id of\n",
    "    point must be increasing integers.\n",
    "    '''\n",
    "    new_mapping_dict = dict()\n",
    "    new_mapping_counter = 0\n",
    "\n",
    "    point_set = set()\n",
    "    edge_list = list()\n",
    "    edge_game_list = list()\n",
    "    weight_list = list()\n",
    "\n",
    "    for key in edges_dict:\n",
    "        tmp_weight = edges_dict[key]\n",
    "        if tmp_weight < threshold:\n",
    "            continue\n",
    "        point_1 = key[0]\n",
    "        point_2 = key[1]\n",
    "        if new_mapping_dict.get(point_1) is None:\n",
    "            new_mapping_dict[point_1] = new_mapping_counter\n",
    "            new_mapping_counter += 1\n",
    "        if new_mapping_dict.get(point_2) is None:\n",
    "            new_mapping_dict[point_2] = new_mapping_counter\n",
    "            new_mapping_counter += 1\n",
    "        \n",
    "        new_point_1 = new_mapping_dict[point_1]\n",
    "        new_point_2 = new_mapping_dict[point_2]\n",
    "        new_edge = (new_point_1, new_point_2)\n",
    "\n",
    "        point_set.add(new_point_1)\n",
    "        point_set.add(new_point_2)\n",
    "\n",
    "        edge_list.append(new_edge)\n",
    "        edge_game_list.append(edges_game_dict[key])\n",
    "        weight_list.append(tmp_weight - threshold + 1)\n",
    "        \n",
    "    point_list = list(point_set)\n",
    "    \n",
    "    return point_list, edge_list, weight_list, edge_game_list\n",
    "\n",
    "def generate_graph(point_list, edge_list, weight_list):\n",
    "    '''\n",
    "    Given the all the points and edges in a graph, using a \n",
    "    community detection algorithm in igraph library to find \n",
    "    communities\n",
    "    The constructed igraph object is returned\n",
    "    '''\n",
    "    g = ig.Graph()\n",
    "    # add vertices in this graph\n",
    "    g.add_vertices(len(point_list))\n",
    "    # add edges in this graph\n",
    "    g.add_edges(edge_list)\n",
    "    # assign weight to edges\n",
    "    g.es['weight'] = weight_list\n",
    "    return g"
   ]
  },
  {
   "cell_type": "markdown",
   "metadata": {},
   "source": [
    "## Game data visualization "
   ]
  },
  {
   "cell_type": "markdown",
   "metadata": {},
   "source": [
    "In order to better understand the data and gain insight into it, we visualize the data. "
   ]
  },
  {
   "cell_type": "markdown",
   "metadata": {},
   "source": [
    "### Most played games on steam\n",
    "\n",
    "First of all, we want to know the most played games on steam, so we count the number of player for each game and plotted the top 10 games. A game playing history is only considered as valid if the playing time in the recent two weeks is greater than 2 hours. \n",
    "\n",
    "We plotted the top 10 played games in a bar chart and the result shows that CS: GO is the most played games from our data set. We compared our results with the data published by steam, although the ranking is not completely the same, it's pretty close. The discrepancy, we think, is due to the limited data we are able to collect, so it only reflects part of the global view."
   ]
  },
  {
   "cell_type": "code",
   "execution_count": 7,
   "metadata": {
    "collapsed": true
   },
   "outputs": [],
   "source": [
    "# Generate an id for each user\n",
    "generate_game_mapping()"
   ]
  },
  {
   "cell_type": "code",
   "execution_count": 11,
   "metadata": {
    "collapsed": true
   },
   "outputs": [],
   "source": [
    "def barh_plot(data, title, xlabel, yticklabel):\n",
    "    '''\n",
    "    A general function to draw plot\n",
    "    '''\n",
    "    ind = np.arange(len(data))\n",
    "    width = 0.5\n",
    "    fig, ax = plt.subplots()\n",
    "    rects = ax.barh(ind, data, width, color='SkyBlue', label='Game')\n",
    "    ax.set_title(title)\n",
    "    ax.set_xlabel(xlabel)\n",
    "    ax.set_yticks(ind)\n",
    "    ax.set_yticklabels(yticklabel)\n",
    "    ax.invert_yaxis()\n",
    "    ax.legend()\n",
    "    for i, v in enumerate(data):\n",
    "        ax.text(v + 2, i + .15, str(v), color='SkyBlue', fontweight='bold')\n",
    "    plt.show()"
   ]
  },
  {
   "cell_type": "code",
   "execution_count": 12,
   "metadata": {
    "scrolled": true
   },
   "outputs": [
    {
     "data": {
      "image/png": "[encoded data removed]",
      "text/plain": [
       "<matplotlib.figure.Figure at 0x108dbd128>"
      ]
     },
     "metadata": {},
     "output_type": "display_data"
    }
   ],
   "source": [
    "# Show the top 10 games and the number of player\n",
    "# Count a valid point when this user has palyed a game for at least 2 hours.\n",
    "app_id_name_mapping, app_id_user_mapping = load_games()\n",
    "sorted_apps = sorted(app_id_user_mapping.items(), key=lambda x: len(x[1]), reverse=True)\n",
    "top_app_players = list()\n",
    "top_app_names = list()\n",
    "for i in range(10):\n",
    "    app = sorted_apps[i]\n",
    "    top_app_players.append(len(app[1]))\n",
    "    top_app_names.append(app_id_name_mapping[app[0]])\n",
    "    \n",
    "# Plot bar chart\n",
    "barh_plot(top_app_players, 'Top 10 Games', 'Number of Players', top_app_names)"
   ]
  },
  {
   "cell_type": "markdown",
   "metadata": {},
   "source": [
    "### Average playing time for each game"
   ]
  },
  {
   "cell_type": "markdown",
   "metadata": {},
   "source": [
    "We also calculated and plotted the average time users spend on each game. The results show that users play Dota 2 spend longer time playing than other games although Dota 2 only rank 4th in the most played games. We think this result is reasonable since one Dota game last longer than compared with the top 3 games."
   ]
  },
  {
   "cell_type": "code",
   "execution_count": 13,
   "metadata": {
    "scrolled": false
   },
   "outputs": [
    {
     "data": {
      "image/png": "[encoded data removed]",
      "text/plain": [
       "<matplotlib.figure.Figure at 0x109a1eac8>"
      ]
     },
     "metadata": {},
     "output_type": "display_data"
    }
   ],
   "source": [
    "# Display the avg user playing time in the past 2 weeks\n",
    "app_hour_list = list()\n",
    "for i in range(10):\n",
    "    app = sorted_apps[i]\n",
    "    user_list = app[1]\n",
    "    total_hours = 0\n",
    "    for user in user_list:\n",
    "        total_hours += user[1]\n",
    "    app_hour_list.append(round(total_hours / len(user_list), 2))\n",
    "barh_plot(app_hour_list, 'Average Play Time in 2 Weeks', 'Time (hours)', top_app_names)"
   ]
  },
  {
   "cell_type": "markdown",
   "metadata": {},
   "source": [
    "### Playing time distribution for each game"
   ]
  },
  {
   "cell_type": "markdown",
   "metadata": {},
   "source": [
    "The following code plots the cumulative density function of the playing time for each game. The y-axis stands for the cumulative density while x-axis is the log value of the playing time. Since there may be outliers in the data so we using the log value as the x-axis.\n",
    "\n",
    "The shape of CDF for each game is pretty similar which means the distribution of user playing time for each game is similar. Games have a longer average playing time also have a relatively flat CDF curve like Dota 2."
   ]
  },
  {
   "cell_type": "code",
   "execution_count": 33,
   "metadata": {
    "scrolled": false
   },
   "outputs": [
    {
     "data": {
      "image/png": "[encoded data removed]",
      "text/plain": [
       "<matplotlib.figure.Figure at 0x109a1e4e0>"
      ]
     },
     "metadata": {},
     "output_type": "display_data"
    }
   ],
   "source": [
    "# Explore the playing time distribution for a game\n",
    "import math\n",
    "def time_distribution_hist(app_index, bin_num):\n",
    "    app_id, user_list = sorted_apps[app_index]\n",
    "    data = list()\n",
    "    for user in user_list:\n",
    "        data.append(math.log(user[1]))\n",
    "    data = np.sort(data)\n",
    "    fig, ax = plt.subplots()\n",
    "    n, bins, patches = ax.hist(data, bin_num, density=True, histtype='step',\n",
    "                               cumulative=True, label='Game', color='m')\n",
    "    cdf_y = list()\n",
    "    for value in bins:\n",
    "        cdf_y.append(np.sum(data <= value) / data.shape[0])\n",
    "    ax.plot(bins, cdf_y, 'k--', linewidth=1.5, label='Theoretical', color='SkyBlue')\n",
    "    ax.set_xlabel('Log of Game Palying Time in Recent Two Weeks')\n",
    "    ax.set_ylabel('CDF')\n",
    "    ax.set_title(app_id_name_mapping[app_id] + ' Playing Time Distribution')\n",
    "    # Tweak spacing to prevent clipping of ylabel\n",
    "    fig.tight_layout()\n",
    "    plt.show()\n",
    "    \n",
    "# Draw CDF of playing time of a game\n",
    "time_distribution_hist(3, 25)"
   ]
  },
  {
   "cell_type": "markdown",
   "metadata": {},
   "source": [
    "### Game playing behavior"
   ]
  },
  {
   "cell_type": "markdown",
   "metadata": {},
   "source": [
    "Finally, we want to dig a little bit into the game playing behavior for steam users. So we counted the number of recently playing games for each steam user. From the plotting, we can conclude that one-third of the user only played one game in the recent two weeks. And the majority of the users won't play more than three games in the recent two weeks, which means most players focus their time on a few games. However, there are some master players that played 10 games (maybe more since the maximum number of games returned is set to 10)."
   ]
  },
  {
   "cell_type": "code",
   "execution_count": 31,
   "metadata": {
    "scrolled": true
   },
   "outputs": [
    {
     "data": {
      "image/png": "[encoded data removed]",
      "text/plain": [
       "<matplotlib.figure.Figure at 0x10a53f470>"
      ]
     },
     "metadata": {},
     "output_type": "display_data"
    }
   ],
   "source": [
    "# Distribution of number of games, processing data\n",
    "game_count_list = get_user_game_count()\n",
    "game_count_dict = dict()\n",
    "for count in game_count_list:\n",
    "    if game_count_dict.get(count) is None:\n",
    "        game_count_dict[count] = 0\n",
    "    game_count_dict[count] += 1\n",
    "data = list()\n",
    "for i in range(1, 11):\n",
    "    data.append(game_count_dict[i])\n",
    "# Begin to draw the bar plot\n",
    "fig, ax = plt.subplots()\n",
    "rects = ax.bar(list(range(1, 11)), data, 0.75,color='SkyBlue', label='Game')\n",
    "ax.set_xlabel('Number of Recently Played Game')\n",
    "ax.set_ylabel('Number of Players')\n",
    "ax.set_title('Recently Played Game Distribution')\n",
    "\n",
    "for i, v in enumerate(data):\n",
    "    ax.text(i + 1 - .35, v + 10, str(v), color='SkyBlue', fontweight='bold')\n",
    "# Tweak spacing to prevent clipping of ylabel\n",
    "fig.tight_layout()\n",
    "plt.show()"
   ]
  },
  {
   "cell_type": "markdown",
   "metadata": {},
   "source": [
    "### Randomly Select 300 User to Visualize"
   ]
  },
  {
   "cell_type": "markdown",
   "metadata": {},
   "source": [
    "Finally, we try to connect the user data we collected as a network and visualize it. We connect users if they have recently played the same games, and it turns out there will be a lot of edges in the graph and difficult to visualize. So we decide to randomly select 300 users from our dataset and plot the network between these users.\n",
    "\n",
    "We use the igraph library to represent the user network, and use the plotly package to visualize this network. The package will export the graph into an HTML file."
   ]
  },
  {
   "cell_type": "code",
   "execution_count": 36,
   "metadata": {
    "collapsed": true
   },
   "outputs": [],
   "source": [
    "# Select 300 random users\n",
    "id_file_name = 'game_id_mapping.pkl'\n",
    "mapping = read_mapping(id_file_name)\n",
    "random_mapping_dict = dict()\n",
    "overlapping_set = set()\n",
    "counter = 300\n",
    "while counter > 0:\n",
    "    rand_key = random.choice(list(mapping.keys()))\n",
    "    if rand_key in overlapping_set:\n",
    "        continue\n",
    "    overlapping_set.add(rand_key)\n",
    "    random_mapping_dict[rand_key] = mapping[rand_key]\n",
    "    counter -= 1"
   ]
  },
  {
   "cell_type": "code",
   "execution_count": 37,
   "metadata": {
    "collapsed": true,
    "scrolled": false
   },
   "outputs": [],
   "source": [
    "# Construct edges between these 300 users\n",
    "# Load games first\n",
    "app_id_name_mapping, app_id_user_mapping = load_games(random_mapping_dict)\n",
    "# Construct edges\n",
    "edges_dict, edges_game_dict = generate_edges(app_id_user_mapping)\n",
    "point_list, edge_list, weight_list, edge_game_list = transfer_mapping(edges_dict, edges_game_dict, 1)\n",
    "graph = generate_graph(point_list, edge_list, weight_list)"
   ]
  },
  {
   "cell_type": "code",
   "execution_count": 39,
   "metadata": {
    "collapsed": true
   },
   "outputs": [],
   "source": [
    "# Visualize the graph\n",
    "layout = graph.layout('kk', dim=2)\n",
    "point_num = len(point_list)\n",
    "# Coordination of all points\n",
    "Xn = [layout[i][0] for i in range(point_num)]\n",
    "Yn = [layout[i][1] for i in range(point_num)]\n",
    "# Coordination of all edges\n",
    "Xe = list()\n",
    "Ye = list()\n",
    "for edge in edge_list:\n",
    "    Xe += [layout[edge[0]][0], layout[edge[1]][0], None]\n",
    "    Ye += [layout[edge[0]][1], layout[edge[1]][1], None]\n",
    "\n",
    "trace_1 = Scatter(x=Xe, y=Ye, mode='lines', \\\n",
    "    line=Line(color='rgb(125,125,125)', width=1), hoverinfo='none',)\n",
    "\n",
    "trace_2 = Scatter(x=Xn, y=Yn, mode='markers', \\\n",
    "    marker=Marker(symbol='dot', size=6, \\\n",
    "    colorscale='Viridis', line=Line(color='rgb(50,50,50)', width=0.5)), \\\n",
    "    text=list(range(point_num)), hoverinfo='text')\n",
    "\n",
    "\n",
    "axis=dict(showbackground=False,\n",
    "            showline=False,\n",
    "            zeroline=False,\n",
    "            showgrid=False,\n",
    "            showticklabels=False,\n",
    "            title=''\n",
    "            )\n",
    "\n",
    "playout = Layout(\n",
    "          title=\"Graph of 300 randomly selected players connected by their shared games\",\n",
    "          width=1000,\n",
    "          height=1000,\n",
    "          showlegend=False,\n",
    "          scene=Scene(\n",
    "          xaxis=XAxis(axis),\n",
    "          yaxis=YAxis(axis),\n",
    "          ),\n",
    "      margin=Margin(\n",
    "          t=100\n",
    "      ),\n",
    "      hovermode='closest',)\n",
    "\n",
    "\n",
    "data = Data([trace_1, trace_2])\n",
    "fig=Figure(data=data, layout=playout)\n",
    "plotly.offline.plot(fig, filename='Community.html')"
   ]
  },
  {
   "cell_type": "markdown",
   "metadata": {},
   "source": [
    "The generated user network looks like the following, and the graph also shows that most user just spend their time playing one game, and few users played more than one game recently.\n",
    "\n",
    "![network](Player_Network.png)"
   ]
  },
  {
   "cell_type": "code",
   "execution_count": null,
   "metadata": {
    "collapsed": true
   },
   "outputs": [],
   "source": []
  }
 ],
 "metadata": {
  "kernelspec": {
   "display_name": "Python 3",
   "language": "python",
   "name": "python3"
  },
  "language_info": {
   "codemirror_mode": {
    "name": "ipython",
    "version": 3
   },
   "file_extension": ".py",
   "mimetype": "text/x-python",
   "name": "python",
   "nbconvert_exporter": "python",
   "pygments_lexer": "ipython3",
   "version": "3.6.3"
  }
 },
 "nbformat": 4,
 "nbformat_minor": 2
}
