{
 "cells": [
  {
   "cell_type": "markdown",
   "metadata": {},
   "source": [
    "# Steam Miner"
   ]
  },
  {
   "cell_type": "markdown",
   "metadata": {},
   "source": [
    "Steam, the world-largest PC game distribution platform, has a huge body of customers. Powered by a freely Web API provided by Steam, we’d like to dig and reveal some interesting facts from the Steam community.\n",
    "\n",
    "First of all, we scraped the public user data from Steam, analyzed it and visualized the data.\n",
    "\n",
    "Besides, based on game review, we make a sentiment analysis on the user game review texts.  Sentiment analysis involves extraction of subjective information from user review to determine the polarity with respect to certain object. It is useful for us to identify trend of player opinions on the different games. Using the result from the sentiment analysis, we aim to classify the attitude of the players with respect to their reviews. \n",
    "\n",
    "The last thing we have accomplished is the prediction of rating of a new game. The game media often get the pre-released version of the game and publish their score before the official release, however, customers often can't tell which media is more 'accurate'. To address this problem, we trained a Machine Learning classification model with the rating data scraped from the game media and the ‘true’ review rating from Steam."
   ]
  },
  {
   "cell_type": "code",
   "execution_count": 1,
   "metadata": {
    "collapsed": true
   },
   "outputs": [],
   "source": [
    "# Load matplotlib library\n",
    "import os\n",
    "import pickle\n",
    "import numpy as np\n",
    "import requests\n",
    "from multiprocessing import Pool\n",
    "from nltk.corpus import stopwords\n",
    "import matplotlib\n",
    "matplotlib.use(\"svg\")\n",
    "%matplotlib inline\n",
    "import matplotlib.pyplot as plt\n",
    "plt.style.use(\"ggplot\")\n",
    "import operator\n",
    "import json\n",
    "from collections import deque\n",
    "import random\n",
    "import time\n",
    "import igraph as ig\n",
    "import math\n",
    "import plotly.plotly as py\n",
    "import plotly\n",
    "from plotly.graph_objs import *\n",
    "import re\n",
    "import pandas as pd\n",
    "from bs4 import BeautifulSoup\n",
    "from sklearn.svm import SVC\n",
    "from sklearn.model_selection import train_test_split\n",
    "from IPython.core.display import display, HTML"
   ]
  },
  {
   "cell_type": "markdown",
   "metadata": {},
   "source": [
    "## Analyze game playing data"
   ]
  },
  {
   "cell_type": "markdown",
   "metadata": {},
   "source": [
    "In this section, we will introduce what we did to analyze the game playing history data for steam users. In brief, we collect user data on steam, then we inspect the data and did some visualization. Finally, we are able to draw some conclusion from the data we scraped."
   ]
  },
  {
   "cell_type": "markdown",
   "metadata": {},
   "source": [
    "### Collection public game playing history"
   ]
  },
  {
   "cell_type": "markdown",
   "metadata": {},
   "source": [
    "At first, we try to collect data about steam users and the games they played. We start from one steam user and then scrape data of all the friends of this user, and goes on. In this way, we can collect lots of steam user's profile.\n",
    "\n",
    "However, while doing this project, steam updated its privacy policy that each user's game playing history become friend-view-only in default which we did not expect. So we can only get the game playing history of users who set their profiles to be public. We scraped around 90,000+ user and managed to collect 3431 public profiles.\n",
    "\n",
    "The following code snippet is used to scrap users' recently played games (two weeks), and the maximum number of game to return by the API is set to 10. The response of these APIs are in JSON format, and we store the response in files \"game_part_id.json\". Each file stores a maximum of 500 response and uses id to distinguish different files. We write a robust routin (ignored in this notebook for simplicity) to collect users' steam id and then using the following functions to scrape all public user gaming history."
   ]
  },
  {
   "cell_type": "code",
   "execution_count": 2,
   "metadata": {
    "collapsed": true
   },
   "outputs": [],
   "source": [
    "class GameCrawler:\n",
    "    '''\n",
    "    Class that encapsulate the functions to collect data for each steam user.\n",
    "    '''\n",
    "    def __init__(self, count=0):\n",
    "        self.api = 'http://api.steampowered.com/IPlayerService/GetRecentlyPlayedGames/v1'\n",
    "\n",
    "        self.output = {'games': []}\n",
    "        self.output_limit = 500\n",
    "        self.output_file_prefix = 'user_game/games_part_'\n",
    "        self.part_count = count\n",
    "    \n",
    "    def get_recently_played_game(self, steamid, key, count):\n",
    "        '''\n",
    "        Given the steam id, get the user's recently palyed games if it's public\n",
    "        '''\n",
    "        payload = {'steamid': steamid, 'key': key, 'count': count}\n",
    "        response = requests.get(self.api, params=payload)\n",
    "        json_obj = json.loads(response.text)\n",
    "        if json_obj.get('response') is None or json_obj.get('response').get('total_count') is None\\\n",
    "          or json_obj.get('response').get('total_count') == 0:\n",
    "            return\n",
    "        json_obj['master_steamid'] = steamid\n",
    "        self.output['games'].append(json_obj)\n",
    "        if len(self.output['games']) >= self.output_limit:\n",
    "            file_name = self.output_file_prefix + '{}'.format(self.part_count) + '.json'\n",
    "            with open(file_name, 'w') as output_f:\n",
    "                json.dump(self.output, output_f)\n",
    "            self.output = {'games': []}\n",
    "            self.part_count += 1\n",
    "\n",
    "    def write_to_file(self):\n",
    "        '''\n",
    "        Output data into the output file\n",
    "        '''\n",
    "        if len(self.output['games']) > 0:\n",
    "            file_name = self.output_file_prefix + '{}'.format(self.part_count) + '.json'\n",
    "            with open(file_name, 'w') as output_f:\n",
    "                json.dump(self.output, output_f)\n",
    "            self.output = {'games': []}\n",
    "            self.part_count += 1"
   ]
  },
  {
   "cell_type": "markdown",
   "metadata": {},
   "source": [
    "### Utility functions"
   ]
  },
  {
   "cell_type": "markdown",
   "metadata": {},
   "source": [
    "The next thing we did is processing and analyzing data. To reduce duplicate code and make the code more manageable, we implemented a set of utility functions on loading data, organizing data and plotting as follow."
   ]
  },
  {
   "cell_type": "code",
   "execution_count": 3,
   "metadata": {
    "collapsed": true
   },
   "outputs": [],
   "source": [
    "game_file_name_prefix = \"user_game/games_part_\"\n",
    "\n",
    "def generate_game_mapping():\n",
    "    '''\n",
    "    Load all the games json files, and write mapping from\n",
    "    steam id to synthetic id starting from 0, for the purpose\n",
    "    of orgnizing the data.\n",
    "    Serialize the dictionary data structure in a pickle file\n",
    "    '''\n",
    "    record = set()\n",
    "    mapping = dict()\n",
    "    counter = 0\n",
    "    id_file_name = 'game_id_mapping.pkl'\n",
    "    part_id = 7\n",
    "    for i in range(part_id + 1):\n",
    "        file_name = game_file_name_prefix + '{}'.format(i) + '.json'\n",
    "        with open(file_name, 'r') as input_f:\n",
    "            tmp_obj = json.load(input_f)\n",
    "            parent_list = tmp_obj['games']\n",
    "            for response in parent_list:\n",
    "                # Assign id to this steam user if it isn't appear previously\n",
    "                steam_id = response['master_steamid']\n",
    "                if steam_id not in record:\n",
    "                    record.add(steam_id)\n",
    "                    mapping[steam_id] = counter\n",
    "                    counter += 1\n",
    "    # Seralize mapping dict\n",
    "    with open(id_file_name, 'wb') as output_f:\n",
    "        pickle.dump(mapping, output_f)\n",
    "\n",
    "def read_mapping(mapping_file_name):\n",
    "    '''\n",
    "    Load the steam id mapping\n",
    "    '''\n",
    "    with open(mapping_file_name, 'rb') as input_f:\n",
    "        mapping = pickle.load(input_f)\n",
    "    return mapping\n",
    "\n",
    "def get_user_game_count():\n",
    "    '''\n",
    "    Find the number of recently played games for each user.\n",
    "    A list is returned.\n",
    "    '''\n",
    "    part_id = 7\n",
    "    games_list = list()\n",
    "    for i in range(part_id + 1):\n",
    "        # Read in a response file and count the number of recently palyed games for each uesr\n",
    "        file_name = game_file_name_prefix + '{}'.format(i) + '.json'\n",
    "        with open(file_name) as input_f:\n",
    "            tmp_obj = json.load(input_f)\n",
    "        parent_list = tmp_obj['games']\n",
    "        for response in parent_list:\n",
    "            inner_response = response.get('response')\n",
    "            if inner_response is None:\n",
    "                continue\n",
    "            games = inner_response.get('games')\n",
    "            if games is None:\n",
    "                continue\n",
    "            game_count = 0\n",
    "            for game in games:\n",
    "                tmp_time = game.get('playtime_2weeks')\n",
    "                if tmp_time is None or (tmp_time is not None and tmp_time <= 120):\n",
    "                    continue\n",
    "                game_count += 1\n",
    "            if game_count > 0:\n",
    "                games_list.append(game_count)\n",
    "    return games_list\n",
    "\n",
    "def load_games(constrained_id_mapping=None):\n",
    "    '''\n",
    "    Load all the games json files and return two dictionaries.\n",
    "    1. mapping from game id to game name\n",
    "    2. mapping from game and all users that recently played this game,\n",
    "    each user is a tuple contain the user id and user the time he played\n",
    "    this game in 2 weeks in hours.\n",
    "    \n",
    "    The constrianed_id_mapping parameter denote a subset of id. If this is\n",
    "    not null, the function will only return data related to those ids.\n",
    "    '''\n",
    "    # Load user mapping first\n",
    "    if constrained_id_mapping is None:\n",
    "        id_file_name = 'game_id_mapping.pkl'\n",
    "        mapping = read_mapping(id_file_name)\n",
    "    else:\n",
    "        mapping = constrained_id_mapping\n",
    "    part_id = 7\n",
    "    # Generate dictionary information\n",
    "    app_id_name_mapping = dict()\n",
    "    app_id_user_mapping = dict()\n",
    "    for i in range(part_id + 1):\n",
    "        file_name = game_file_name_prefix + '{}'.format(i) + '.json'\n",
    "        with open(file_name, 'rb') as input_f:\n",
    "            tmp_obj = json.load(input_f)\n",
    "        parent_list = tmp_obj['games']\n",
    "        for response in parent_list:\n",
    "            steam_id = response['master_steamid']\n",
    "            if mapping.get(steam_id) is None:\n",
    "                continue\n",
    "            inner_response = response.get('response')\n",
    "            if inner_response is None:\n",
    "                continue\n",
    "            games = inner_response.get('games')\n",
    "            if games is None:\n",
    "                continue\n",
    "            for game in games:\n",
    "                app_id = game.get('appid')\n",
    "                if app_id is None:\n",
    "                    continue\n",
    "                app_name = game.get('name')\n",
    "                if app_name is None:\n",
    "                    continue\n",
    "                # Count as valid if this user has played this game for more than two hours\n",
    "                # in these two weeks\n",
    "                tmp_time = game.get('playtime_2weeks')\n",
    "                # To remove outliers, a game is only considered valid if the users have played it\n",
    "                # for at least two hours in the recently two weeks\n",
    "                if tmp_time is None or (tmp_time is not None and tmp_time <= 120):\n",
    "                    continue\n",
    "                if app_id not in app_id_name_mapping:\n",
    "                    app_id_name_mapping[app_id] = app_name\n",
    "                if app_id not in app_id_user_mapping:\n",
    "                    app_id_user_mapping[app_id] = list()\n",
    "                app_id_user_mapping[app_id].append((mapping[steam_id], tmp_time / 60))\n",
    "    return app_id_name_mapping, app_id_user_mapping\n",
    "\n",
    "\n",
    "def generate_edges(app_id_user_mapping):\n",
    "    '''\n",
    "    Given the user list for each games, generate all the pairs\n",
    "    if two user played the same games; As well as the weight if two\n",
    "    users share more than one games.\n",
    "    Return a edge dictionary using pair as key and weight as value;\n",
    "    And another dictionary using pair as key and a list of shared app as value.\n",
    "    '''\n",
    "    test_set = set()\n",
    "    id_file_name = 'game_id_mapping.pkl'\n",
    "    mapping = read_mapping(id_file_name)\n",
    "    edges_dict = dict()\n",
    "    # Record the shared games on each edge\n",
    "    edges_game_dict = dict()\n",
    "    for key in app_id_user_mapping:\n",
    "        user_list = app_id_user_mapping[key]\n",
    "        if len(user_list) <= 1:\n",
    "            continue\n",
    "        # Generate edge pair\n",
    "        for i in range(len(user_list) - 1):\n",
    "            source_id = user_list[i]\n",
    "            for j in range(i+1, len(user_list)):\n",
    "                target_id = user_list[j]\n",
    "                edge_pair = (source_id, target_id) if source_id <= target_id \\\n",
    "                    else (target_id, source_id)\n",
    "                test_set.add(edge_pair)\n",
    "                if edge_pair not in edges_dict:\n",
    "                    edges_dict[edge_pair] = 1\n",
    "                    edges_game_dict[edge_pair] = list()\n",
    "                    edges_game_dict[edge_pair].append(key)\n",
    "                else:\n",
    "                    edges_dict[edge_pair] += 1\n",
    "                    edges_game_dict[edge_pair].append(key)\n",
    "    return edges_dict, edges_game_dict\n",
    "\n",
    "def transfer_mapping(edges_dict, edges_game_dict, threshold=3):\n",
    "    '''\n",
    "    Given all the edges, apply the weight threshold, using new\n",
    "    point id and generate point list, edge list and weight list.\n",
    "    This is because the graph library we used require the id of\n",
    "    point must be increasing integers.\n",
    "    '''\n",
    "    new_mapping_dict = dict()\n",
    "    new_mapping_counter = 0\n",
    "\n",
    "    point_set = set()\n",
    "    edge_list = list()\n",
    "    edge_game_list = list()\n",
    "    weight_list = list()\n",
    "\n",
    "    for key in edges_dict:\n",
    "        tmp_weight = edges_dict[key]\n",
    "        if tmp_weight < threshold:\n",
    "            continue\n",
    "        point_1 = key[0]\n",
    "        point_2 = key[1]\n",
    "        if new_mapping_dict.get(point_1) is None:\n",
    "            new_mapping_dict[point_1] = new_mapping_counter\n",
    "            new_mapping_counter += 1\n",
    "        if new_mapping_dict.get(point_2) is None:\n",
    "            new_mapping_dict[point_2] = new_mapping_counter\n",
    "            new_mapping_counter += 1\n",
    "        \n",
    "        new_point_1 = new_mapping_dict[point_1]\n",
    "        new_point_2 = new_mapping_dict[point_2]\n",
    "        new_edge = (new_point_1, new_point_2)\n",
    "\n",
    "        point_set.add(new_point_1)\n",
    "        point_set.add(new_point_2)\n",
    "\n",
    "        edge_list.append(new_edge)\n",
    "        edge_game_list.append(edges_game_dict[key])\n",
    "        weight_list.append(tmp_weight - threshold + 1)\n",
    "        \n",
    "    point_list = list(point_set)\n",
    "    \n",
    "    return point_list, edge_list, weight_list, edge_game_list\n",
    "\n",
    "def generate_graph(point_list, edge_list, weight_list):\n",
    "    '''\n",
    "    Given the all the points and edges in a graph, using a \n",
    "    community detection algorithm in igraph library to find \n",
    "    communities\n",
    "    The constructed igraph object is returned\n",
    "    '''\n",
    "    g = ig.Graph()\n",
    "    # add vertices in this graph\n",
    "    g.add_vertices(len(point_list))\n",
    "    # add edges in this graph\n",
    "    g.add_edges(edge_list)\n",
    "    # assign weight to edges\n",
    "    g.es['weight'] = weight_list\n",
    "    return g"
   ]
  },
  {
   "cell_type": "markdown",
   "metadata": {},
   "source": [
    "### Game data visualization "
   ]
  },
  {
   "cell_type": "markdown",
   "metadata": {},
   "source": [
    "In order to better understand the data and gain insight into it, we visualize the data. "
   ]
  },
  {
   "cell_type": "markdown",
   "metadata": {},
   "source": [
    "#### Most played games on steam"
   ]
  },
  {
   "cell_type": "markdown",
   "metadata": {},
   "source": [
    "First of all, we want to know the most played games on steam, so we count the number of player for each game and plotted the top 10 games. A game playing history is only considered as valid if the playing time in the recent two weeks is greater than 2 hours. \n",
    "\n",
    "We plotted the top 10 played games in a bar chart and the result shows that CS: GO is the most played games from our data set. We compared our results with the data published by steam, although the ranking is not completely the same, it's pretty close. The discrepancy, we think, is due to the limited data we are able to collect, so it only reflects part of the global view."
   ]
  },
  {
   "cell_type": "code",
   "execution_count": 4,
   "metadata": {
    "collapsed": true
   },
   "outputs": [],
   "source": [
    "# Generate an id for each user\n",
    "generate_game_mapping()"
   ]
  },
  {
   "cell_type": "code",
   "execution_count": 5,
   "metadata": {
    "collapsed": true
   },
   "outputs": [],
   "source": [
    "def barh_plot(data, title, xlabel, yticklabel):\n",
    "    '''\n",
    "    A general function to draw plot\n",
    "    '''\n",
    "    ind = np.arange(len(data))\n",
    "    width = 0.5\n",
    "    fig, ax = plt.subplots()\n",
    "    rects = ax.barh(ind, data, width, color='SkyBlue', label='Game')\n",
    "    ax.set_title(title)\n",
    "    ax.set_xlabel(xlabel)\n",
    "    ax.set_yticks(ind)\n",
    "    ax.set_yticklabels(yticklabel)\n",
    "    ax.invert_yaxis()\n",
    "    ax.legend()\n",
    "    for i, v in enumerate(data):\n",
    "        ax.text(v + 2, i + .15, str(v), color='SkyBlue', fontweight='bold')\n",
    "    plt.show()"
   ]
  },
  {
   "cell_type": "code",
   "execution_count": 6,
   "metadata": {},
   "outputs": [
    {
     "data": {
      "image/png": "[encoded data removed]",
      "text/plain": [
       "<matplotlib.figure.Figure at 0x1a149355f8>"
      ]
     },
     "metadata": {},
     "output_type": "display_data"
    }
   ],
   "source": [
    "# Show the top 10 games and the number of player\n",
    "# Count a valid point when this user has palyed a game for at least 2 hours.\n",
    "app_id_name_mapping, app_id_user_mapping = load_games()\n",
    "sorted_apps = sorted(app_id_user_mapping.items(), key=lambda x: len(x[1]), reverse=True)\n",
    "top_app_players = list()\n",
    "top_app_names = list()\n",
    "for i in range(10):\n",
    "    app = sorted_apps[i]\n",
    "    top_app_players.append(len(app[1]))\n",
    "    top_app_names.append(app_id_name_mapping[app[0]])\n",
    "    \n",
    "# Plot bar chart\n",
    "barh_plot(top_app_players, 'Top 10 Games', 'Number of Players', top_app_names)"
   ]
  },
  {
   "cell_type": "markdown",
   "metadata": {},
   "source": [
    "#### Average playing time for each game"
   ]
  },
  {
   "cell_type": "markdown",
   "metadata": {},
   "source": [
    "We also calculated and plotted the average time users spend on each game. The results show that users play Dota 2 spend longer time playing than other games although Dota 2 only rank 4th in the most played games. We think this result is reasonable since one Dota game last longer than compared with the top 3 games."
   ]
  },
  {
   "cell_type": "code",
   "execution_count": 7,
   "metadata": {},
   "outputs": [
    {
     "data": {
      "image/png": "[encoded data removed]",
      "text/plain": [
       "<matplotlib.figure.Figure at 0x1a149350f0>"
      ]
     },
     "metadata": {},
     "output_type": "display_data"
    }
   ],
   "source": [
    "# Display the avg user playing time in the past 2 weeks\n",
    "app_hour_list = list()\n",
    "for i in range(10):\n",
    "    app = sorted_apps[i]\n",
    "    user_list = app[1]\n",
    "    total_hours = 0\n",
    "    for user in user_list:\n",
    "        total_hours += user[1]\n",
    "    app_hour_list.append(round(total_hours / len(user_list), 2))\n",
    "barh_plot(app_hour_list, 'Average Play Time in 2 Weeks', 'Time (hours)', top_app_names)"
   ]
  },
  {
   "cell_type": "markdown",
   "metadata": {},
   "source": [
    "#### Playing time distribution for each game"
   ]
  },
  {
   "cell_type": "markdown",
   "metadata": {},
   "source": [
    "The following code plots the cumulative density function of the playing time for each game. The y-axis stands for the cumulative density while x-axis is the log value of the playing time. Since there may be outliers in the data so we using the log value as the x-axis.\n",
    "\n",
    "The shape of CDF for each game is pretty similar which means the distribution of user playing time for each game is similar. Games have a longer average playing time also have a relatively flat CDF curve like Dota 2."
   ]
  },
  {
   "cell_type": "code",
   "execution_count": 8,
   "metadata": {
    "scrolled": true
   },
   "outputs": [
    {
     "data": {
      "image/png": "[encoded data removed]",
      "text/plain": [
       "<matplotlib.figure.Figure at 0x1a14ae8cf8>"
      ]
     },
     "metadata": {},
     "output_type": "display_data"
    }
   ],
   "source": [
    "# Explore the playing time distribution for a game\n",
    "import math\n",
    "def time_distribution_hist(app_index, bin_num):\n",
    "    app_id, user_list = sorted_apps[app_index]\n",
    "    data = list()\n",
    "    for user in user_list:\n",
    "        data.append(math.log(user[1]))\n",
    "    data = np.sort(data)\n",
    "    fig, ax = plt.subplots()\n",
    "    n, bins, patches = ax.hist(data, bin_num, density=True, histtype='step',\n",
    "                               cumulative=True, label='Game', color='m')\n",
    "    cdf_y = list()\n",
    "    for value in bins:\n",
    "        cdf_y.append(np.sum(data <= value) / data.shape[0])\n",
    "    ax.plot(bins, cdf_y, 'k--', linewidth=1.5, label='Theoretical', color='SkyBlue')\n",
    "    ax.set_xlabel('Log of Game Palying Time in Recent Two Weeks')\n",
    "    ax.set_ylabel('CDF')\n",
    "    ax.set_title(app_id_name_mapping[app_id] + ' Playing Time Distribution')\n",
    "    # Tweak spacing to prevent clipping of ylabel\n",
    "    fig.tight_layout()\n",
    "    plt.show()\n",
    "    \n",
    "# Draw CDF of playing time of a game\n",
    "time_distribution_hist(3, 25)"
   ]
  },
  {
   "cell_type": "markdown",
   "metadata": {},
   "source": [
    "#### Game playing behavior"
   ]
  },
  {
   "cell_type": "markdown",
   "metadata": {},
   "source": [
    "Finally, we want to dig a little bit into the game playing behavior for steam users. So we counted the number of recently playing games for each steam user. From the plotting, we can conclude that one-third of the user only played one game in the recent two weeks. And the majority of the users won't play more than three games in the recent two weeks, which means most players focus their time on a few games. However, there are some master players that played 10 games (maybe more since the maximum number of games returned is set to 10)."
   ]
  },
  {
   "cell_type": "code",
   "execution_count": 9,
   "metadata": {},
   "outputs": [
    {
     "data": {
      "image/png": "[encoded data removed]",
      "text/plain": [
       "<matplotlib.figure.Figure at 0x1a14994630>"
      ]
     },
     "metadata": {},
     "output_type": "display_data"
    }
   ],
   "source": [
    "# Distribution of number of games, processing data\n",
    "game_count_list = get_user_game_count()\n",
    "game_count_dict = dict()\n",
    "for count in game_count_list:\n",
    "    if game_count_dict.get(count) is None:\n",
    "        game_count_dict[count] = 0\n",
    "    game_count_dict[count] += 1\n",
    "data = list()\n",
    "for i in range(1, 11):\n",
    "    data.append(game_count_dict[i])\n",
    "# Begin to draw the bar plot\n",
    "fig, ax = plt.subplots()\n",
    "rects = ax.bar(list(range(1, 11)), data, 0.75,color='SkyBlue', label='Game')\n",
    "ax.set_xlabel('Number of Recently Played Game')\n",
    "ax.set_ylabel('Number of Players')\n",
    "ax.set_title('Recently Played Game Distribution')\n",
    "\n",
    "for i, v in enumerate(data):\n",
    "    ax.text(i + 1 - .35, v + 10, str(v), color='SkyBlue', fontweight='bold')\n",
    "# Tweak spacing to prevent clipping of ylabel\n",
    "fig.tight_layout()\n",
    "plt.show()"
   ]
  },
  {
   "cell_type": "markdown",
   "metadata": {},
   "source": [
    "#### Randomly Select 300 User to Visualize"
   ]
  },
  {
   "cell_type": "markdown",
   "metadata": {},
   "source": [
    "Finally, we try to connect the user data we collected as a network and visualize it. We connect users if they have recently played the same games, and it turns out there will be a lot of edges in the graph and difficult to visualize. So we decide to randomly select 300 users from our dataset and plot the network between these users.\n",
    "\n",
    "We use the igraph library to represent the user network, and use the plotly package to visualize this network. The package will export the graph into an HTML file."
   ]
  },
  {
   "cell_type": "code",
   "execution_count": 10,
   "metadata": {
    "collapsed": true
   },
   "outputs": [],
   "source": [
    "# Select 300 random users\n",
    "id_file_name = 'game_id_mapping.pkl'\n",
    "mapping = read_mapping(id_file_name)\n",
    "random_mapping_dict = dict()\n",
    "overlapping_set = set()\n",
    "counter = 300\n",
    "while counter > 0:\n",
    "    rand_key = random.choice(list(mapping.keys()))\n",
    "    if rand_key in overlapping_set:\n",
    "        continue\n",
    "    overlapping_set.add(rand_key)\n",
    "    random_mapping_dict[rand_key] = mapping[rand_key]\n",
    "    counter -= 1"
   ]
  },
  {
   "cell_type": "code",
   "execution_count": 11,
   "metadata": {
    "collapsed": true
   },
   "outputs": [],
   "source": [
    "# Construct edges between these 300 users\n",
    "# Load games first\n",
    "app_id_name_mapping, app_id_user_mapping = load_games(random_mapping_dict)\n",
    "# Construct edges\n",
    "edges_dict, edges_game_dict = generate_edges(app_id_user_mapping)\n",
    "point_list, edge_list, weight_list, edge_game_list = transfer_mapping(edges_dict, edges_game_dict, 1)\n",
    "graph = generate_graph(point_list, edge_list, weight_list)"
   ]
  },
  {
   "cell_type": "code",
   "execution_count": 12,
   "metadata": {},
   "outputs": [
    {
     "data": {
      "text/plain": [
       "'file:///Users/yuleili/Documents/Master_2018_Spring/15688/Final/project/final_report/Community.html'"
      ]
     },
     "execution_count": 12,
     "metadata": {},
     "output_type": "execute_result"
    }
   ],
   "source": [
    "# Visualize the graph\n",
    "layout = graph.layout('kk', dim=2)\n",
    "point_num = len(point_list)\n",
    "# Coordination of all points\n",
    "Xn = [layout[i][0] for i in range(point_num)]\n",
    "Yn = [layout[i][1] for i in range(point_num)]\n",
    "# Coordination of all edges\n",
    "Xe = list()\n",
    "Ye = list()\n",
    "for edge in edge_list:\n",
    "    Xe += [layout[edge[0]][0], layout[edge[1]][0], None]\n",
    "    Ye += [layout[edge[0]][1], layout[edge[1]][1], None]\n",
    "\n",
    "trace_1 = Scatter(x=Xe, y=Ye, mode='lines', \\\n",
    "    line=Line(color='rgb(125,125,125)', width=1), hoverinfo='none',)\n",
    "\n",
    "trace_2 = Scatter(x=Xn, y=Yn, mode='markers', \\\n",
    "    marker=Marker(symbol='dot', size=6, \\\n",
    "    colorscale='Viridis', line=Line(color='rgb(50,50,50)', width=0.5)), \\\n",
    "    text=list(range(point_num)), hoverinfo='text')\n",
    "\n",
    "\n",
    "axis=dict(showbackground=False,\n",
    "            showline=False,\n",
    "            zeroline=False,\n",
    "            showgrid=False,\n",
    "            showticklabels=False,\n",
    "            title=''\n",
    "            )\n",
    "\n",
    "playout = Layout(\n",
    "          title=\"Graph of 300 randomly selected players connected by their shared games\",\n",
    "          width=1000,\n",
    "          height=1000,\n",
    "          showlegend=False,\n",
    "          scene=Scene(\n",
    "          xaxis=XAxis(axis),\n",
    "          yaxis=YAxis(axis),\n",
    "          ),\n",
    "      margin=Margin(\n",
    "          t=100\n",
    "      ),\n",
    "      hovermode='closest',)\n",
    "\n",
    "\n",
    "data = Data([trace_1, trace_2])\n",
    "fig=Figure(data=data, layout=playout)\n",
    "plotly.offline.plot(fig, filename='Community.html')"
   ]
  },
  {
   "cell_type": "markdown",
   "metadata": {},
   "source": [
    "The generated user network looks like the following, and the graph also shows that most user just spend their time playing one game, and few users played more than one game recently.\n",
    "\n",
    "![network](Player_Network.png)"
   ]
  },
  {
   "cell_type": "markdown",
   "metadata": {},
   "source": [
    "## Predict Steam Review Ratings by Game Media Rating\n",
    "\n",
    "Usually the game media, like IGN, GameSpot and PC Gamer, will get the pre-released version of the game and publish their score before the official release. Customers often can't tell which media is more 'accurate'. There are many conditions that may disguide the customers. For example, the preference of the media, the content in the pre-released version, or even sometimes the media isn't telling 'the truth'. To address this problem, we decide to use the Machine Learning technology learnt in the course. With the large user basis on Steam, we regard the Steam review ratings as the 'true' rating for a game. Therefore, we can leverage the game rating score from big game media to predict the true rating of a newly-released game."
   ]
  },
  {
   "cell_type": "markdown",
   "metadata": {},
   "source": [
    "###  Get the Game List\n",
    "\n",
    "First, we fetch all the avaiable games on Steam using the Web API and save it as a list of **(appid, app_name)** pair."
   ]
  },
  {
   "cell_type": "code",
   "execution_count": 13,
   "metadata": {
    "collapsed": true
   },
   "outputs": [],
   "source": [
    "GET_APP_LIST_URL = 'http://api.steampowered.com/ISteamApps/GetAppList/v2'\n",
    "apps_json = requests.get(GET_APP_LIST_URL).json()\n",
    "app_list = apps_json['applist']['apps']"
   ]
  },
  {
   "cell_type": "markdown",
   "metadata": {},
   "source": [
    "### Scrape the Reviews\n",
    "\n",
    "Then we scrape the reviews for the game in the list. The column includes,\n",
    "1. **the appid**\n",
    "2. **the name of the app**\n",
    "3. **the description of the review score**\n",
    "\n",
    "The review score on the Steam is based on each user's review. The review ratings is relatively convincing, for\n",
    "\n",
    "1. The user should buy the game first\n",
    "2. The score considers the ratio of the positive/negative reviews and the number of the reivews\n",
    "3. We only take the game whose number of total reviews over 1000"
   ]
  },
  {
   "cell_type": "code",
   "execution_count": 14,
   "metadata": {
    "collapsed": true
   },
   "outputs": [],
   "source": [
    "REVIEW_BASE_URL = 'https://store.steampowered.com/appreviews/'\n",
    "\n",
    "def scrape_reviews(app):\n",
    "    params = {'json': 1, 'start_offset': 0, 'language': 'all'}\n",
    "    try:\n",
    "        resp = requests.get(\n",
    "            REVIEW_BASE_URL + str(app['appid']), params=params).json()\n",
    "        if 'query_summary' not in resp:\n",
    "            return None\n",
    "        summary = resp['query_summary']\n",
    "        if summary['total_reviews'] <= 1000:\n",
    "            return None\n",
    "        summary.update(app)\n",
    "        return summary\n",
    "    except:\n",
    "        return None\n",
    "\n",
    "app_reviews = list(filter(lambda x: x, map(scrape_reviews, app_list[:10])))"
   ]
  },
  {
   "cell_type": "markdown",
   "metadata": {},
   "source": [
    "## Scrape the ratings from the game media\n",
    "\n",
    "After we got the **true** rating, it's time to retrieve the feature ratings. For there are hundreds of the game media and not every media will review all the games(in fact, their intersection is pretty small), we pres-select ten of them. They are chosen because they contian the most reviews among the game list we scraped. The top three are PC Gamer, GameSpot and IGN, which is what we expected."
   ]
  },
  {
   "cell_type": "code",
   "execution_count": 15,
   "metadata": {},
   "outputs": [
    {
     "data": {
      "text/plain": [
       "['PC Gamer',\n",
       " 'GameSpot',\n",
       " 'IGN',\n",
       " 'Hooked Gamers',\n",
       " 'PC Power Play',\n",
       " 'GameWatcher',\n",
       " 'Destructoid',\n",
       " 'PC Gamer UK',\n",
       " 'Hardcore Gamer',\n",
       " 'Game Informer']"
      ]
     },
     "execution_count": 15,
     "metadata": {},
     "output_type": "execute_result"
    }
   ],
   "source": [
    "# This is the media contains the gamer, collected by times\n",
    "with open('media_contains.pickle', 'rb') as f:\n",
    "    media_contains = pickle.load(f)\n",
    "\n",
    "all_media = [n[0].strip() for n in media_contains[:10]]\n",
    "all_media"
   ]
  },
  {
   "cell_type": "markdown",
   "metadata": {},
   "source": [
    "We scrape the review ratings from the [Game Rankings](https://www.gamerankings.com). We parse the data using the BeautifulSoup and normalize the scraped rating to 1. We organize the data in the form of Panda's DataFrame. Each row is a game, with column of appid, name, rating description + the ratings from 10 game media."
   ]
  },
  {
   "cell_type": "code",
   "execution_count": 16,
   "metadata": {
    "collapsed": true
   },
   "outputs": [],
   "source": [
    "RANKING_BASE_URL = 'https://www.gamerankings.com'\n",
    "BROWSE = '/browse.html'\n",
    "ARTICLES = '/articles.html'\n",
    "params = {'site': 'pc', 'cat': 0, 'year': 0, 'numrev': 3, 'sort': 0, 'letter': None}\n",
    "\n",
    "def parse_game_page(link):\n",
    "    html = requests.get(RANKING_BASE_URL + link + ARTICLES).text\n",
    "    soup = BeautifulSoup(html, 'html.parser')\n",
    "    trs = soup.find('table').find('tbody').find_all('tr')\n",
    "    media_rating = {k:-1 for k in all_media}\n",
    "    for tr in trs:\n",
    "        cols = tr.find_all('td')\n",
    "        media = cols[0].text.strip()\n",
    "        rating = cols[-1].text.strip()\n",
    "        if media in media_rating:\n",
    "            media_rating[media] = float(rating[:-1])\n",
    "    return media_rating\n",
    "\n",
    "def scrape_reviews(name):\n",
    "    try:\n",
    "        c_params = dict(params, search=name)\n",
    "        html = requests.get(RANKING_BASE_URL + BROWSE, params=c_params).text\n",
    "        soup = BeautifulSoup(html, 'html.parser')\n",
    "        links = soup.find('table').find_all('a')\n",
    "\n",
    "        if not links:\n",
    "            return {}\n",
    "        href = links[0]['href']\n",
    "        for link in links:\n",
    "            if link.text == name:\n",
    "                href = link['href']\n",
    "                break\n",
    "        ratings = parse_game_page(href[:href.rfind('/')])\n",
    "        return ratings\n",
    "    except:\n",
    "        return {}\n",
    "\n",
    "with open('app_reviews.pickle', 'rb') as f:\n",
    "    app_reviews = pickle.load(f)\n",
    "app_df = pd.DataFrame(app_reviews)\n",
    "\n",
    "ratings = [scrape_reviews(name) for name in app_df.name[:5]]\n",
    "# with open('ratings.pickle', 'wb') as f:\n",
    "#     pickle.dump(ratings, f)"
   ]
  },
  {
   "cell_type": "markdown",
   "metadata": {},
   "source": [
    "### Clean Data\n",
    "\n",
    "For now, we already have the features and label pair ready to be fed into the Machine Learning model. However, after we took a glance at the data, there are some points we believe that may results in a bad prediction.\n",
    "\n",
    "1. The data contains NaN which means the media doesn't review the game.\n",
    "2. The data is relatively sparse\n",
    "\n",
    "To solve this, we decide to drop all the game which doesn't contain reviews from any ten game media. Then we calculate the mean of the score for the each game media and apply these scores to the missing slot. We also shrink the levels of the review ratings from 7 to 5.\n",
    "\n",
    "- +3(Overwhelmingly Positive) -> +2(Very Positive)\n",
    "- +2(Very Positive) -> +2(Very Positive)\n",
    "- +1(Mostly Positive, Positive) -> +1(Positive)\n",
    "- +0(Mixed) -> 0(Mixed)\n",
    "- -1(Mostly Negative, Negative) -> -1(Negative)\n",
    "- -2(Very Positive) -> -2(Very Positive)\n",
    "- -3(Overwhelmingly Positive) -> -2(Very Positive)"
   ]
  },
  {
   "cell_type": "code",
   "execution_count": 17,
   "metadata": {
    "collapsed": true
   },
   "outputs": [],
   "source": [
    "with open('ratings.pickle', 'rb') as f:\n",
    "    ratings = pickle.load(f)\n",
    "\n",
    "rdf = pd.concat([app_df, pd.DataFrame(ratings)], axis=1)\n",
    "rdf = rdf.dropna()\n",
    "\n",
    "filter_in = ['appid', 'name', 'review_score', 'review_score_desc'] + all_media\n",
    "all_df = rdf.filter(filter_in)\n",
    "all_df.loc[all_df['review_score_desc'] == 'Mostly Positive', 'review_score_desc'] = 'Positive'\n",
    "all_df.loc[all_df['review_score_desc'] == 'Overwhelmingly Positive', 'review_score_desc'] = 'Very Positive'\n",
    "\n",
    "all_df.loc[all_df['review_score_desc'] == 'Mostly Negative', 'review_score_desc'] = 'Negative'\n",
    "all_df.loc[all_df['review_score_desc'] == 'Overwhelmingly Negative', 'review_score_desc'] = 'Very Negative'\n",
    "\n",
    "# all_df = all_df[(all_df == -1.0).sum(axis=1) <= 8]\n",
    "means = [all_df[all_df[m] != -1.0][m].mean() for m in all_media]\n",
    "for name, mean in zip(all_media, means):\n",
    "    all_df.loc[all_df[name] == -1.0, name] = mean\n",
    "\n",
    "with open('all.pickle', 'wb') as f:\n",
    "    pickle.dump(all_df, f)"
   ]
  },
  {
   "cell_type": "markdown",
   "metadata": {},
   "source": [
    "### Tuning Hyper-Parameter using Validation set\n",
    "\n",
    "We have tried several models and found Support Vector Machine can achieve generally the best score, so we decide to tune the hyper-parameter of this model. We split the data into three set, training, validation and testing. We tried several values on **C**, and validate it by the validation set. It results that using $C=1.0$ is can achieve the best accuracy."
   ]
  },
  {
   "cell_type": "code",
   "execution_count": 18,
   "metadata": {},
   "outputs": [
    {
     "name": "stdout",
     "output_type": "stream",
     "text": [
      "Mixed 152\n",
      "Positive 172\n",
      "Negative 12\n",
      "Very Negative 2\n",
      "Very Positive 836\n"
     ]
    },
    {
     "data": {
      "text/plain": [
       "<matplotlib.legend.Legend at 0x1a18c39cc0>"
      ]
     },
     "execution_count": 18,
     "metadata": {},
     "output_type": "execute_result"
    },
    {
     "data": {
      "image/png": "[encoded data removed]",
      "text/plain": [
       "<matplotlib.figure.Figure at 0x1a18c39b70>"
      ]
     },
     "metadata": {},
     "output_type": "display_data"
    }
   ],
   "source": [
    "with open('all.pickle', 'rb') as f:\n",
    "    all_df = pickle.load(f)\n",
    "\n",
    "X = all_df.filter(all_media)\n",
    "y = all_df['review_score_desc']\n",
    "\n",
    "for desc in set(y):\n",
    "    print(desc, len(y[y==desc]))\n",
    "\n",
    "X_, X_test, y_, y_test = train_test_split(X, y, test_size=0.3, random_state=0)\n",
    "X_train, X_cv, y_train, y_cv = train_test_split(X_, y_, test_size=0.3, random_state=0)\n",
    "\n",
    "def get_err_C(clf, X, y, X_cv, y_cv, C):\n",
    "    clf.C = C\n",
    "    clf.fit(X, y)\n",
    "    return np.array([clf.score(X, y), clf.score(X_cv, y_cv)])\n",
    "\n",
    "C = np.logspace(-4, 4, 50)\n",
    "errors = np.array([get_err_C(SVC(), X_train, y_train, X_cv, y_cv, c) for c in C])\n",
    "plt.semilogx(C, errors[:,0], C, errors[:,1])\n",
    "plt.legend(['Training', 'Validation'])"
   ]
  },
  {
   "cell_type": "markdown",
   "metadata": {},
   "source": [
    "### Prediction Accuracy\n",
    "\n",
    "Finally, we use the tuned model to predict the data on each three data sets, and obtain the accuracy of,\n",
    "\n",
    "1. Training Accuracy: 0.9129\n",
    "2. Validation Accuracy: 0.7409\n",
    "3. Testing Accuracy: 0.6997"
   ]
  },
  {
   "cell_type": "code",
   "execution_count": 20,
   "metadata": {},
   "outputs": [
    {
     "name": "stdout",
     "output_type": "stream",
     "text": [
      "train score: 0.9128919860627178\n",
      "cv score: 0.7408906882591093\n",
      "test score: 0.6997167138810199\n"
     ]
    }
   ],
   "source": [
    "svm = SVC(C=1.0)\n",
    "svm.fit(X_train, y_train)\n",
    "print('train score:', svm.score(X_train, y_train))\n",
    "print('cv score:', svm.score(X_cv, y_cv))\n",
    "print('test score:', svm.score(X_test, y_test))"
   ]
  },
  {
   "cell_type": "markdown",
   "metadata": {},
   "source": [
    "## Sentment analysis on Game Reviews\n",
    "\n",
    "Analyzing user sentiments towards games through their review comments can be economically profitable to game producer. From these user reviews, we can extract the information like what does players think about this game, whether the player like this game. By learning these user review data, our model could get the keywords of the review of specific game and classify the review as positive or negative."
   ]
  },
  {
   "cell_type": "markdown",
   "metadata": {},
   "source": [
    "### Data collection\n",
    "\n",
    "First, we will get the user game review from the Steam. And we call the [Steam user review API](https://partner.steamgames.com/doc/store/getreviews) to scrape one thousand reviews for each game. \n",
    "\n",
    "We use two fields from the reponse of the API call:\n",
    " * review - text of written review\n",
    " * voted_up - true means it was a positive recommendation\n",
    "\n",
    "We store the reviews of each game into a pickle file."
   ]
  },
  {
   "cell_type": "code",
   "execution_count": 25,
   "metadata": {},
   "outputs": [],
   "source": [
    "path = \"pkl\" # all data will store in this sub folder\n",
    "os.mkdir(path)"
   ]
  },
  {
   "cell_type": "code",
   "execution_count": 22,
   "metadata": {
    "collapsed": true
   },
   "outputs": [],
   "source": [
    "stopwords = stopwords.words('english')\n",
    "base_url = 'http://store.steampowered.com/appreviews/{0}?json=1&start_offset={1}&filter=recent&language=english'\n",
    "\n",
    "def get_reviews(game):\n",
    "    '''\n",
    "    Scrape the reviews and save into the pickle file.\n",
    "    game: appid of each game\n",
    "    '''\n",
    "    offset = 0\n",
    "    url = base_url.format(game, offset)\n",
    "\n",
    "    response = requests.get(url)\n",
    "    pages = response.json()['query_summary']['total_reviews'] // 20\n",
    "    voted_up = []\n",
    "    review_text = []\n",
    "    \n",
    "    # random select 1000 reviews of each game\n",
    "    for i in range(50):\n",
    "        page = np.random.choice(pages) \n",
    "        offset = page * 20\n",
    "        url = base_url.format(game, offset)\n",
    "        response = requests.get(url)\n",
    "        reviews = response.json()['reviews']\n",
    "        for review in reviews:\n",
    "            text = ' '.join([word for word in review[\"review\"].split() if word not in stopwords])\n",
    "            review_text.append(text)\n",
    "            voted_up.append(review[\"voted_up\"])\n",
    "    \n",
    "    name = str(game)+'.pkl'\n",
    "    with open(os.path.join(path, name), 'wb') as f:\n",
    "        pickle.dump((review_text, voted_up), f)"
   ]
  },
  {
   "cell_type": "code",
   "execution_count": null,
   "metadata": {
    "collapsed": true
   },
   "outputs": [],
   "source": [
    "# get all game ids\n",
    "with open('all.pickle', 'rb') as f:\n",
    "    df = pickle.load(f)\n",
    "ids = df.loc[:, 'appid'].values\n",
    "\n",
    "# # use multiprocessing to get the reviews \n",
    "pool = Pool(processes=5)\n",
    "pool.map(get_reviews, ids)"
   ]
  },
  {
   "cell_type": "markdown",
   "metadata": {},
   "source": [
    "### Word Cloud from each game review\n",
    "\n",
    "Next, we analyze the reviews of each game. We generate a word cloud for each game. In that way, we can directly know what the players think about this game and some keywords which will come to mind about this game."
   ]
  },
  {
   "cell_type": "code",
   "execution_count": 24,
   "metadata": {},
   "outputs": [],
   "source": [
    "from wordcloud import WordCloud\n",
    "\n",
    "def generate_wordcloud(name, review_text):\n",
    "    text = \"\\n\".join(review_text)\n",
    "    wordcloud = WordCloud(width=1920,height=1080).generate(text)\n",
    "    wordcloud.to_image().save(str(name) + \".png\")\n",
    "    plt.imshow(wordcloud)\n",
    "    plt.axis('off')\n",
    "    plt.show()"
   ]
  },
  {
   "cell_type": "markdown",
   "metadata": {},
   "source": [
    "For example, we generate a word cloud for Dota2(appid:570). We can see that Dota is a fun, good MOBA game from the word cloud."
   ]
  },
  {
   "cell_type": "code",
   "execution_count": 21,
   "metadata": {
    "collapsed": true
   },
   "outputs": [],
   "source": [
    "get_reviews(570) # scrape the dota reviews in case you don't have one "
   ]
  },
  {
   "cell_type": "code",
   "execution_count": 22,
   "metadata": {},
   "outputs": [
    {
     "data": {
      "image/png": "[encoded data removed]",
      "text/plain": [
       "<matplotlib.figure.Figure at 0x1a142cc048>"
      ]
     },
     "metadata": {},
     "output_type": "display_data"
    }
   ],
   "source": [
    "with open('570.pkl', 'rb') as f:\n",
    "    (review_text, voted_up) = pickle.load(f)\n",
    "\n",
    "generate_wordcloud(\"Dota\", review_text)"
   ]
  },
  {
   "cell_type": "markdown",
   "metadata": {},
   "source": [
    "### Classfiy the game reviews\n",
    "\n",
    "Then, we will classify the user sentment based on the game reviews. Briefly speaking, by learning from the classified game reviews, we can predict a game review is positive or negative."
   ]
  },
  {
   "cell_type": "markdown",
   "metadata": {},
   "source": [
    "#### Data preparation\n",
    "\n",
    "Our dataset has 108,996 game reviews from the games in all. We seperate the 80 percentage of the data as the train set and the rest as the test set. To analyze the reivew text, we contruct the TFIDF feature from the review text."
   ]
  },
  {
   "cell_type": "code",
   "execution_count": 26,
   "metadata": {},
   "outputs": [
    {
     "name": "stdout",
     "output_type": "stream",
     "text": [
      "108996\n",
      "108996\n"
     ]
    }
   ],
   "source": [
    "from sklearn.feature_extraction.text import TfidfVectorizer\n",
    "\n",
    "files = []\n",
    "review_text = []\n",
    "voted_up = []\n",
    "\n",
    "for file in os.listdir(path):\n",
    "    if file.endswith(\".pkl\"):\n",
    "        with open(os.path.join(path, file), 'rb') as f:\n",
    "            r, v = pickle.load(f)\n",
    "            review_text += r\n",
    "            voted_up += v     \n",
    "        \n",
    "print(len(review_text))\n",
    "print(len(voted_up))\n",
    "\n",
    "cutoff = len(review_text)*8//10\n",
    "train_data = review_text[:cutoff]\n",
    "test_data = review_text[cutoff:]\n",
    "train_labels = voted_up[:cutoff]\n",
    "test_labels = voted_up[cutoff:]\n",
    "\n",
    "vectorizer = TfidfVectorizer(min_df=5, max_df = 0.8, sublinear_tf=True, use_idf=True)\n",
    "train_vectors = vectorizer.fit_transform(train_data)\n",
    "test_vectors = vectorizer.transform(test_data)"
   ]
  },
  {
   "cell_type": "markdown",
   "metadata": {},
   "source": [
    "#### Train the data using Navie Bayes and Logistic Regresion\n",
    "Then we use several models to train our TFIDF features. We select the Naive Bayes and Logistic Regression model to classify the reviews positive or negative based on the TFIDF features."
   ]
  },
  {
   "cell_type": "code",
   "execution_count": 27,
   "metadata": {
    "collapsed": true
   },
   "outputs": [],
   "source": [
    "from sklearn import svm\n",
    "from sklearn.naive_bayes import MultinomialNB  \n",
    "from sklearn.linear_model import LogisticRegression\n",
    "from sklearn.metrics import classification_report,accuracy_score\n",
    "\n",
    "# Perform classification with Naive Bayes\n",
    "classifier_naive = MultinomialNB(alpha = 0.01)\n",
    "classifier_naive.fit(train_vectors, train_labels)\n",
    "train_naive = classifier_naive.predict(train_vectors)\n",
    "prediction_naive = classifier_naive.predict(test_vectors)\n",
    "\n",
    "# Perform classification with Logistic Regression\n",
    "classifier_LR = LogisticRegression()\n",
    "classifier_LR.fit(train_vectors, train_labels)\n",
    "train_LR = classifier_LR.predict(train_vectors)\n",
    "prediction_LR = classifier_LR.predict(test_vectors)\n"
   ]
  },
  {
   "cell_type": "markdown",
   "metadata": {},
   "source": [
    "#### Classification accuracy\n",
    "Using Naive Bayes, we can achieve 89.80% train accuracy and 83.98% test accuracy. And using Logisict Regression, the accuracy is higher, 92.04% train accuracy and 88.36% test accuracy."
   ]
  },
  {
   "cell_type": "code",
   "execution_count": 28,
   "metadata": {},
   "outputs": [
    {
     "name": "stdout",
     "output_type": "stream",
     "text": [
      "Results for Naive Bayes()\n",
      "             precision    recall  f1-score   support\n",
      "\n",
      "      False       0.87      0.30      0.45      4685\n",
      "       True       0.84      0.99      0.91     17115\n",
      "\n",
      "avg / total       0.84      0.84      0.81     21800\n",
      "\n",
      "Train accuracy: 0.897988\n",
      "Test accuracy: 0.839771\n",
      "\n",
      "Results for Logistic Regression()\n",
      "             precision    recall  f1-score   support\n",
      "\n",
      "      False       0.84      0.57      0.68      4685\n",
      "       True       0.89      0.97      0.93     17115\n",
      "\n",
      "avg / total       0.88      0.88      0.87     21800\n",
      "\n",
      "Train accuracy: 0.920432\n",
      "Test accuracy: 0.883578\n",
      "\n"
     ]
    }
   ],
   "source": [
    "print(\"Results for Naive Bayes()\")\n",
    "print(classification_report(test_labels, prediction_naive))\n",
    "print(\"Train accuracy: %f\" % accuracy_score(train_labels, train_naive))\n",
    "print(\"Test accuracy: %f\\n\" % accuracy_score(test_labels, prediction_naive))\n",
    "\n",
    "print(\"Results for Logistic Regression()\")\n",
    "print(classification_report(test_labels, prediction_LR))\n",
    "print(\"Train accuracy: %f\" % accuracy_score(train_labels, train_LR))\n",
    "print(\"Test accuracy: %f\\n\" % accuracy_score(test_labels, prediction_LR))"
   ]
  },
  {
   "cell_type": "markdown",
   "metadata": {
    "collapsed": true
   },
   "source": [
    "| Model        | Train Accuracy | Test Accuracy  |\n",
    "| :------------ |:-------------- | :--------------|\n",
    "| Naive Bayes  | 89.80% | 83.98% |\n",
    "| Logistic Regression  | 92.04%      |   88.36% |\n"
   ]
  }
 ],
 "metadata": {
  "kernelspec": {
   "display_name": "Python 3",
   "language": "python",
   "name": "python3"
  },
  "language_info": {
   "codemirror_mode": {
    "name": "ipython",
    "version": 3
   },
   "file_extension": ".py",
   "mimetype": "text/x-python",
   "name": "python",
   "nbconvert_exporter": "python",
   "pygments_lexer": "ipython3",
   "version": "3.6.3"
  }
 },
 "nbformat": 4,
 "nbformat_minor": 2
}
